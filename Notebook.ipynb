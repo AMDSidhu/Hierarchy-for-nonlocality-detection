{
 "cells": [
  {
   "cell_type": "markdown",
   "metadata": {},
   "source": [
    "# Introduction\n",
    "\n",
    "This notebook is the computational appendix of [arXiv:1612.08551](https://arxiv.org/abs/1612.08551). We demonstrate how to use a modified version of the [NPA hierarchy](https://arxiv.org/abs/0903.4368) to test whether a set of observed correlations is local. We also give the details how to reproduce the numerical results shown in the paper. Furthermore, we show how to determine the robustness to noise of a set of given nonlocal correlations and to extract a Bell inequality from the dual of the SDP.\n",
    "To improve readability of this notebook, we placed the supporting functions to a separate file; please download this in the same folder as the notebook if you would like to evaluate it. The following dependencies must also be available: at least one SDP solver ([SDPA](http://sdpa.sourceforge.net) as an executable in the path or [Mosek](https://mosek.com) with its Python interface installed; cvxopt as a solver is not recommended) together with the [Ncpol2sdpa](http://pypi.python.org/pypi/ncpol2sdpa) and [qutip](http://qutip.org) packages.\n",
    "First, we import everything we will need:"
   ]
  },
  {
   "cell_type": "code",
   "execution_count": null,
   "metadata": {
    "ExecuteTime": {
     "end_time": "2016-12-09T13:53:32.744921",
     "start_time": "2016-12-09T13:53:32.006762"
    },
    "collapsed": false
   },
   "outputs": [],
   "source": [
    "from __future__ import print_function, division\n",
    "from math import sqrt\n",
    "from qutip import sigmax, sigmaz\n",
    "from ncpol2sdpa import flatten, SdpRelaxation, generate_variables\n",
    "from time import time\n",
    "from sympy import S\n",
    "from local_tools import generate_commuting_measurements, get_W_reduced, \\\n",
    "    get_GHZ_reduced, get_moment_constraints, get_fullmeasurement"
   ]
  },
  {
   "cell_type": "markdown",
   "metadata": {},
   "source": [
    "Then we define the scenario we are considering. In full generality we define it with the three parameters $(N,m,d)$, corresponding to the case of $N$ parties, $m$ measurement choices with $d$ outcomes each. For instance "
   ]
  },
  {
   "cell_type": "code",
   "execution_count": null,
   "metadata": {
    "ExecuteTime": {
     "end_time": "2016-12-09T13:53:33.617707",
     "start_time": "2016-12-09T13:53:33.603936"
    },
    "collapsed": false
   },
   "outputs": [],
   "source": [
    "N, m, d = 7, 2, 2\n",
    "configuration = [d for _ in range(m)]\n",
    "measurements = [generate_commuting_measurements(configuration, chr(65+i))\n",
    "                for i in range(N)]"
   ]
  },
  {
   "cell_type": "markdown",
   "metadata": {},
   "source": [
    "We generated the symbolic variables defining the measurements. They are treated as commuting variables, since to test for locality, we use the NPA hierarchy with commuting measurements. Given that we will always work in the correlator space, we define the substitution rule $\\mathcal({M}_{x_i}^{(i)})^2 = \\mathbb{1}$ for any $i = 1,...,N$ and $x_i = 0,..,m-1$."
   ]
  },
  {
   "cell_type": "code",
   "execution_count": null,
   "metadata": {
    "ExecuteTime": {
     "end_time": "2016-12-09T13:53:46.728870",
     "start_time": "2016-12-09T13:53:46.717315"
    },
    "collapsed": true
   },
   "outputs": [],
   "source": [
    "substitutions = {M**2: S.One for M in flatten(measurements)}"
   ]
  },
  {
   "cell_type": "markdown",
   "metadata": {
    "slideshow": {
     "slide_type": "-"
    }
   },
   "source": [
    "# Feasibility problem\n",
    "\n",
    "First, we introduce the code to solve the problem of determinining whether a set of correlation is nonlocal. We cast it as an SDP feasibility problem, so that whenever one gets an infeasible solution it implies that the given correlations cannot be described by a local model."
   ]
  },
  {
   "cell_type": "markdown",
   "metadata": {},
   "source": [
    "## $W$ state example\n",
    "\n",
    "We start with generating the state and operators corresponding the measurements:"
   ]
  },
  {
   "cell_type": "code",
   "execution_count": null,
   "metadata": {
    "ExecuteTime": {
     "end_time": "2016-12-09T13:41:27.094928",
     "start_time": "2016-12-09T13:41:27.052742"
    },
    "collapsed": true
   },
   "outputs": [],
   "source": [
    "W_state = get_W_reduced(N)\n",
    "W_operators = [[sigmax(), sigmaz()] for _ in range(N)]"
   ]
  },
  {
   "cell_type": "markdown",
   "metadata": {
    "collapsed": true
   },
   "source": [
    "Then we generate the moments, i.e. the values of the correlators:"
   ]
  },
  {
   "cell_type": "code",
   "execution_count": null,
   "metadata": {
    "ExecuteTime": {
     "end_time": "2016-12-09T13:41:34.237954",
     "start_time": "2016-12-09T13:41:28.492399"
    },
    "collapsed": false,
    "scrolled": true
   },
   "outputs": [],
   "source": [
    "time0 = time()\n",
    "moments = get_moment_constraints(N, W_state, measurements, W_operators)\n",
    "print(\"Constraints were generated in \" + str(time()-time0) + \" seconds.\")"
   ]
  },
  {
   "cell_type": "markdown",
   "metadata": {},
   "source": [
    "We construct the hierarchy at level two with corresponding substitutions and moments assignments:"
   ]
  },
  {
   "cell_type": "code",
   "execution_count": null,
   "metadata": {
    "ExecuteTime": {
     "end_time": "2016-12-09T13:41:44.888349",
     "start_time": "2016-12-09T13:41:35.797363"
    },
    "collapsed": false
   },
   "outputs": [],
   "source": [
    "time0 = time()\n",
    "sdp = SdpRelaxation(flatten(measurements))\n",
    "sdp.get_relaxation(2, substitutions=substitutions, momentsubstitutions=moments)\n",
    "print(\"SDP relaxation was generated in \" + str(time()-time0) + \" seconds.\")"
   ]
  },
  {
   "cell_type": "markdown",
   "metadata": {},
   "source": [
    "Finally, we solve the SDP feasibility problem:"
   ]
  },
  {
   "cell_type": "code",
   "execution_count": null,
   "metadata": {
    "ExecuteTime": {
     "end_time": "2016-12-09T13:42:13.967754",
     "start_time": "2016-12-09T13:42:13.729108"
    },
    "collapsed": false
   },
   "outputs": [],
   "source": [
    "sdp.solve(solver=\"mosek\")\n",
    "print(\"SDP was solved in \" + str(sdp.solution_time) + \" seconds.\")\n",
    "print(\"SDP status is \" + sdp.status)"
   ]
  },
  {
   "cell_type": "markdown",
   "metadata": {},
   "source": [
    "## $GHZ$ state example\n",
    "We start with generating the state and operators corresponding the measurements:"
   ]
  },
  {
   "cell_type": "code",
   "execution_count": null,
   "metadata": {
    "ExecuteTime": {
     "end_time": "2016-12-09T13:54:14.549652",
     "start_time": "2016-12-09T13:54:14.485285"
    },
    "collapsed": false
   },
   "outputs": [],
   "source": [
    "GHZ_state = get_GHZ_reduced(4)\n",
    "GHZ_operators = [[sigmax(), 1/sqrt(2)*(sigmaz()+sigmax())] for _ in range(N)]"
   ]
  },
  {
   "cell_type": "markdown",
   "metadata": {},
   "source": [
    "For the $GHZ$ state, we need to add the values of the two full-body correlators $\\langle M_0^{(1)}M_0^{(2)}...M_0^{(N)} \\rangle$ and $\\langle M_1^{(1)}M_0^{(2)}...M_0^{(N)} \\rangle$."
   ]
  },
  {
   "cell_type": "code",
   "execution_count": null,
   "metadata": {
    "ExecuteTime": {
     "end_time": "2016-12-09T13:43:36.114092",
     "start_time": "2016-12-09T13:43:30.492496"
    },
    "collapsed": false,
    "scrolled": true
   },
   "outputs": [],
   "source": [
    "time0 = time()\n",
    "\n",
    "moments = get_moment_constraints(N, GHZ_state, measurements, GHZ_operators)\n",
    "extra = get_fullmeasurement([0 for _ in range(N)], measurements)\n",
    "extramonomials = [extra]\n",
    "moments[extra] = 1\n",
    "\n",
    "extra = get_fullmeasurement(flatten([1,[0 for _ in range(N-1)]]), measurements)\n",
    "extramonomials.append(extra)\n",
    "moments[extra] = (1/sqrt(2))\n",
    "\n",
    "print(\"Constraints were generated in \" + str(time()-time0) + \" seconds.\")"
   ]
  },
  {
   "cell_type": "markdown",
   "metadata": {},
   "source": [
    "We construct the hierarchy at the hybrid level $\\lbrace \\mathcal{O}_2,M_0^{(1)}M_0^{(2)}...M_0^{(N)},M_1^{(1)}M_0^{(2)}...M_0^{(N)} \\rbrace$ with corresponding substitutions and moments assignments:"
   ]
  },
  {
   "cell_type": "code",
   "execution_count": null,
   "metadata": {
    "ExecuteTime": {
     "end_time": "2016-12-09T13:44:58.984020",
     "start_time": "2016-12-09T13:44:50.163345"
    },
    "collapsed": false
   },
   "outputs": [],
   "source": [
    "time0 = time()\n",
    "sdp = SdpRelaxation(flatten(measurements), verbose=1, parallel=True)\n",
    "sdp.get_relaxation(2, substitutions=substitutions, \n",
    "                   momentsubstitutions=moments, extramonomials=extramonomials)\n",
    "print(\"SDP relaxation was generated in \" + str(time()-time0) + \" seconds.\")"
   ]
  },
  {
   "cell_type": "markdown",
   "metadata": {},
   "source": [
    "We solve the SDP feasibility problem"
   ]
  },
  {
   "cell_type": "code",
   "execution_count": null,
   "metadata": {
    "ExecuteTime": {
     "end_time": "2016-12-09T13:45:43.745487",
     "start_time": "2016-12-09T13:45:43.387496"
    },
    "collapsed": false
   },
   "outputs": [],
   "source": [
    "sdp.solve(solver=\"mosek\")\n",
    "print(\"SDP was solved in \" + str(sdp.solution_time) + \" seconds.\")\n",
    "print(\"SDP status is \" + sdp.status)"
   ]
  },
  {
   "cell_type": "markdown",
   "metadata": {},
   "source": [
    "# Noise robustness\n",
    "\n",
    "We show how to estimate the noise robustness of some observed nonlocal correlations numerically. Given a set of correlations generated by a state $\\rho$ and some measurements $M_{x_i}^{(i)}$, we estimate the minimal amount of noise $\\lambda$ such that the correlations arise from $(1 - \\lambda )\\rho + \\lambda \\frac{\\mathbb{1}}{2^N}$.\n",
    "If we perform measurements on a Bloch sphere, the noise affects the values of the correlators the same way. That is, if we denote $v_{j_1 j_2 j_3 j_4}^{i_1 i_2 i_3 i_4}$ the value of $\\langle M_{j_1}^{(i_1)}M_{j_2}^{(i_2)}M_{j_3}^{(i_3)}M_{j_4}^{(i_4)} \\rangle$, the noisy state will result in the corresponding value of\n",
    "$(1 - \\lambda ) v_{j_1 j_2 j_3 j_4}^{i_1 i_2 i_3 i_4} $\n",
    "We cast this problem as an SDP by introducing $\\lambda$ as the objective function of the minimization problem and by replacing the moments substitutions with the modified values depending on $\\lambda$. First, we define $\\lambda$ as an additional symbolic variable:"
   ]
  },
  {
   "cell_type": "code",
   "execution_count": null,
   "metadata": {
    "ExecuteTime": {
     "end_time": "2016-12-09T13:53:55.540160",
     "start_time": "2016-12-09T13:53:55.536793"
    },
    "collapsed": true
   },
   "outputs": [],
   "source": [
    "lambda_ = generate_variables(\"\\lambda\")[0]"
   ]
  },
  {
   "cell_type": "markdown",
   "metadata": {},
   "source": [
    "## $W$ state example\n",
    "We generate the moment constraints as a function of the $\\lambda$ parameter:"
   ]
  },
  {
   "cell_type": "code",
   "execution_count": null,
   "metadata": {
    "ExecuteTime": {
     "end_time": "2016-12-09T13:48:22.941656",
     "start_time": "2016-12-09T13:48:17.165595"
    },
    "collapsed": false,
    "scrolled": true
   },
   "outputs": [],
   "source": [
    "time0 = time()\n",
    "moments = get_moment_constraints(N, W_state, measurements, W_operators, lambda_)\n",
    "print(\"Constraints were generated in \" + str(time()-time0) + \" seconds.\")"
   ]
  },
  {
   "cell_type": "markdown",
   "metadata": {},
   "source": [
    "Then the relaxation:"
   ]
  },
  {
   "cell_type": "code",
   "execution_count": null,
   "metadata": {
    "ExecuteTime": {
     "end_time": "2016-12-09T13:48:48.008089",
     "start_time": "2016-12-09T13:48:40.381997"
    },
    "collapsed": false
   },
   "outputs": [],
   "source": [
    "sdp = SdpRelaxation(flatten(measurements), parameters=[lambda_],\n",
    "                    verbose=1, parallel=True)\n",
    "sdp.get_relaxation(2, objective=lambda_, substitutions=substitutions, \n",
    "                   momentsubstitutions=moments)\n",
    "print(\"SDP relaxation was generated in \" + str(time()-time0) + \" seconds.\")"
   ]
  },
  {
   "cell_type": "markdown",
   "metadata": {},
   "source": [
    "and finally we solve the SDP:"
   ]
  },
  {
   "cell_type": "code",
   "execution_count": null,
   "metadata": {
    "ExecuteTime": {
     "end_time": "2016-12-09T13:49:11.809042",
     "start_time": "2016-12-09T13:49:11.508670"
    },
    "collapsed": false
   },
   "outputs": [],
   "source": [
    "sdp.solve(solver=\"mosek\")\n",
    "print(\"SDP was solved in \" + str(sdp.solution_time) + \" seconds.\")\n",
    "print(\"lambda_min is \" + str(sdp.primal))"
   ]
  },
  {
   "cell_type": "markdown",
   "metadata": {},
   "source": [
    "## $GHZ$ state example\n",
    "We repeat the same procedure as for the $W$ state case, with the addition of the two full-body correlators"
   ]
  },
  {
   "cell_type": "code",
   "execution_count": null,
   "metadata": {
    "ExecuteTime": {
     "end_time": "2016-12-09T13:50:17.797375",
     "start_time": "2016-12-09T13:50:11.899658"
    },
    "collapsed": false,
    "scrolled": true
   },
   "outputs": [],
   "source": [
    "time0 = time()\n",
    "\n",
    "moments = get_moment_constraints(N, GHZ_state, measurements, GHZ_operators, lambda_)\n",
    "\n",
    "extra = get_fullmeasurement([0 for _ in range(N)], measurements)\n",
    "extramonomials = [extra]\n",
    "moments[extra] = (1 - lambda_)\n",
    "\n",
    "extra = get_fullmeasurement(flatten([1, [0 for _ in range(N-1)]]), measurements)\n",
    "extramonomials.append(extra)\n",
    "moments[extra] = (1/sqrt(2))*(1 - lambda_)\n",
    "\n",
    "print(\"Constraints were generated in \" + str(time()-time0) + \" seconds.\")"
   ]
  },
  {
   "cell_type": "markdown",
   "metadata": {},
   "source": [
    "The relaxation is generated as:"
   ]
  },
  {
   "cell_type": "code",
   "execution_count": null,
   "metadata": {
    "ExecuteTime": {
     "end_time": "2016-12-09T13:50:48.622170",
     "start_time": "2016-12-09T13:50:39.827396"
    },
    "collapsed": false
   },
   "outputs": [],
   "source": [
    "sdp = SdpRelaxation(flatten(measurements), parameters=[lambda_],verbose=1, parallel=True)\n",
    "sdp.get_relaxation(2, objective=lambda_, substitutions=substitutions, \n",
    "                   momentsubstitutions=moments, extramonomials=extramonomials)\n",
    "print(\"SDP relaxation was generated in \" + str(time()-time0) + \" seconds.\")"
   ]
  },
  {
   "cell_type": "markdown",
   "metadata": {},
   "source": [
    "Solving it, we get:"
   ]
  },
  {
   "cell_type": "code",
   "execution_count": null,
   "metadata": {
    "ExecuteTime": {
     "end_time": "2016-12-09T13:51:05.471271",
     "start_time": "2016-12-09T13:51:05.041301"
    },
    "collapsed": false
   },
   "outputs": [],
   "source": [
    "sdp.solve(solver=\"mosek\")\n",
    "print(\"SDP was solved in \" + str(sdp.solution_time) + \" seconds.\")\n",
    "print(\"lambda_min is \" + str(sdp.primal))"
   ]
  },
  {
   "cell_type": "markdown",
   "metadata": {},
   "source": [
    "# Dual inequality\n",
    "From the dual of the noise robustness SDP, one can extract a Bell inequality that detects the observed nonlocal correlations. The derived inequality will be in the form $\\sum \\alpha_{j_1 j_2 j_3 j_4}^{i_1 i_2 i_3 i_4} \\langle M_{j_1}^{(i_1)}M_{j_2}^{(i_2)}M_{j_3}^{(i_3)}M_{j_4}^{(i_4)} \\rangle + 1 \\geq 0$.\n",
    "We will present the code we used for the case of the $GHZ$ and $m = 2$ measurement choices. First, we solve the noise robustness SDP:"
   ]
  },
  {
   "cell_type": "code",
   "execution_count": null,
   "metadata": {
    "ExecuteTime": {
     "end_time": "2016-12-09T13:54:23.838889",
     "start_time": "2016-12-09T13:54:23.173482"
    },
    "collapsed": false
   },
   "outputs": [],
   "source": [
    "time0 = time()\n",
    "\n",
    "moments = get_moment_constraints(N, GHZ_state,measurements, GHZ_operators, \n",
    "                                 lambda_, 2)\n",
    "extra = get_fullmeasurement([0 for _ in range(N)], measurements)\n",
    "extramonomials = [extra]\n",
    "moments[extra] = (1 - lambda_)\n",
    "extra = get_fullmeasurement(flatten([1, [0 for _ in range(N-1)]]), measurements)\n",
    "extramonomials.append(extra)\n",
    "moments[extra] = (1/sqrt(2))*(1 - lambda_)\n",
    "\n",
    "print(\"Constraints were generated in \" + str(time()-time0) + \" seconds.\")"
   ]
  },
  {
   "cell_type": "code",
   "execution_count": null,
   "metadata": {
    "ExecuteTime": {
     "end_time": "2016-12-09T13:54:36.306853",
     "start_time": "2016-12-09T13:54:25.572234"
    },
    "collapsed": false,
    "scrolled": true
   },
   "outputs": [],
   "source": [
    "sdp = SdpRelaxation(flatten(measurements), parameters=[lambda_], verbose=1, parallel=True)\n",
    "sdp.get_relaxation(2, objective=lambda_, substitutions=substitutions, \n",
    "                   momentsubstitutions=moments, extramonomials=extramonomials)\n",
    "print(\"SDP relaxation was generated in \" + str(time()-time0) + \" seconds.\")\n",
    "sdp.solve(solver=\"mosek\")\n",
    "print(\"SDP was solved in \" + str(sdp.solution_time) + \" seconds.\")\n",
    "print(\"lambda_min is \" + str(sdp.primal))"
   ]
  },
  {
   "cell_type": "markdown",
   "metadata": {},
   "source": [
    "We only assign the values of up to the two-body correlators. This will ensure that we get the same expression for the Bell inequality as the one presented in the manuscript. \n",
    "Now, we proceed to generate a second relaxation, but we do not substitute the monomials corresponding to the observed correlations."
   ]
  },
  {
   "cell_type": "code",
   "execution_count": null,
   "metadata": {
    "ExecuteTime": {
     "end_time": "2016-12-09T13:54:59.131362",
     "start_time": "2016-12-09T13:54:49.497878"
    },
    "collapsed": false,
    "scrolled": true
   },
   "outputs": [],
   "source": [
    "time0 = time()\n",
    "sdp2 = SdpRelaxation(flatten(measurements), verbose=1, parallel=True)\n",
    "sdp2.get_relaxation(2, substitutions=substitutions, extramonomials=extramonomials)\n",
    "print(\"Second SDP relaxation was generated in \" + str(time()-time0) + \" seconds.\")"
   ]
  },
  {
   "cell_type": "markdown",
   "metadata": {},
   "source": [
    "Then we assign to the second SDP the same dual variables as for the one solved before."
   ]
  },
  {
   "cell_type": "code",
   "execution_count": null,
   "metadata": {
    "ExecuteTime": {
     "end_time": "2016-12-09T13:56:16.504289",
     "start_time": "2016-12-09T13:56:16.492798"
    },
    "collapsed": false
   },
   "outputs": [],
   "source": [
    "sdp2.status = sdp.status\n",
    "sdp2.y_mat = [sdp.y_mat[1]]"
   ]
  },
  {
   "cell_type": "markdown",
   "metadata": {},
   "source": [
    "We extract the value of the dual variable for each monomial appearing in the moment matrix. For the function \"extract_dual_value\" to work properly we needed to generate a moment matrix in which the values of the correlators where not substituted yet."
   ]
  },
  {
   "cell_type": "code",
   "execution_count": null,
   "metadata": {
    "ExecuteTime": {
     "end_time": "2016-12-09T13:56:43.663448",
     "start_time": "2016-12-09T13:56:36.903510"
    },
    "collapsed": false
   },
   "outputs": [],
   "source": [
    "time0 = time()\n",
    "\n",
    "bound = sdp2.extract_dual_value(1)\n",
    "ineq = 0\n",
    "\n",
    "for monomial, index in sdp2.monomial_index.items():\n",
    "    ineq += round(2*sdp2.extract_dual_value(monomial),4)*monomial\n",
    "\n",
    "print(\"Dual was generated in \" + str(time()-time0) + \" seconds\")"
   ]
  },
  {
   "cell_type": "markdown",
   "metadata": {},
   "source": [
    "Lastly, we normalize the inequality so to be in the form presented before (i.e. with the classical bound being equal to $1$ )"
   ]
  },
  {
   "cell_type": "code",
   "execution_count": null,
   "metadata": {
    "ExecuteTime": {
     "end_time": "2016-12-09T13:56:47.521752",
     "start_time": "2016-12-09T13:56:47.495871"
    },
    "collapsed": false,
    "scrolled": true
   },
   "outputs": [],
   "source": [
    "print(ineq/bound)  "
   ]
  }
 ],
 "metadata": {
  "anaconda-cloud": {},
  "kernelspec": {
   "display_name": "Python [default]",
   "language": "python",
   "name": "python3"
  },
  "language_info": {
   "codemirror_mode": {
    "name": "ipython",
    "version": 3
   },
   "file_extension": ".py",
   "mimetype": "text/x-python",
   "name": "python",
   "nbconvert_exporter": "python",
   "pygments_lexer": "ipython3",
   "version": "3.5.2"
  }
 },
 "nbformat": 4,
 "nbformat_minor": 0
}
